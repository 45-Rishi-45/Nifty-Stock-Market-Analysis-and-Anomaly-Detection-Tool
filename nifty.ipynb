{
 "cells": [
  {
   "cell_type": "code",
   "execution_count": 6,
   "id": "c8780c81-4aa9-42c3-95a4-6b49f0a0fa17",
   "metadata": {},
   "outputs": [
    {
     "name": "stdout",
     "output_type": "stream",
     "text": [
      "Requirement already satisfied: openpyxl in c:\\users\\rishith\\anaconda3\\lib\\site-packages (3.0.10)\n",
      "Requirement already satisfied: et_xmlfile in c:\\users\\rishith\\anaconda3\\lib\\site-packages (from openpyxl) (1.1.0)\n",
      "Dataset Loaded Successfully:\n"
     ]
    },
    {
     "data": {
      "text/html": [
       "<div>\n",
       "<style scoped>\n",
       "    .dataframe tbody tr th:only-of-type {\n",
       "        vertical-align: middle;\n",
       "    }\n",
       "\n",
       "    .dataframe tbody tr th {\n",
       "        vertical-align: top;\n",
       "    }\n",
       "\n",
       "    .dataframe thead th {\n",
       "        text-align: right;\n",
       "    }\n",
       "</style>\n",
       "<table border=\"1\" class=\"dataframe\">\n",
       "  <thead>\n",
       "    <tr style=\"text-align: right;\">\n",
       "      <th></th>\n",
       "      <th>Date</th>\n",
       "      <th>Open</th>\n",
       "      <th>High</th>\n",
       "      <th>Low</th>\n",
       "      <th>Close</th>\n",
       "      <th>Shares Traded</th>\n",
       "      <th>Turnover (₹ Cr)</th>\n",
       "    </tr>\n",
       "  </thead>\n",
       "  <tbody>\n",
       "    <tr>\n",
       "      <th>0</th>\n",
       "      <td>02-JAN-2023</td>\n",
       "      <td>18131.70</td>\n",
       "      <td>18215.15</td>\n",
       "      <td>18086.50</td>\n",
       "      <td>18197.45</td>\n",
       "      <td>256073979</td>\n",
       "      <td>11793.06</td>\n",
       "    </tr>\n",
       "    <tr>\n",
       "      <th>1</th>\n",
       "      <td>03-JAN-2023</td>\n",
       "      <td>18163.20</td>\n",
       "      <td>18251.95</td>\n",
       "      <td>18149.80</td>\n",
       "      <td>18232.55</td>\n",
       "      <td>208699772</td>\n",
       "      <td>13680.91</td>\n",
       "    </tr>\n",
       "    <tr>\n",
       "      <th>2</th>\n",
       "      <td>04-JAN-2023</td>\n",
       "      <td>18230.65</td>\n",
       "      <td>18243.00</td>\n",
       "      <td>18020.60</td>\n",
       "      <td>18042.95</td>\n",
       "      <td>235162202</td>\n",
       "      <td>16687.71</td>\n",
       "    </tr>\n",
       "    <tr>\n",
       "      <th>3</th>\n",
       "      <td>05-JAN-2023</td>\n",
       "      <td>18101.95</td>\n",
       "      <td>18120.30</td>\n",
       "      <td>17892.60</td>\n",
       "      <td>17992.15</td>\n",
       "      <td>269949738</td>\n",
       "      <td>22108.53</td>\n",
       "    </tr>\n",
       "    <tr>\n",
       "      <th>4</th>\n",
       "      <td>06-JAN-2023</td>\n",
       "      <td>18008.05</td>\n",
       "      <td>18047.40</td>\n",
       "      <td>17795.55</td>\n",
       "      <td>17859.45</td>\n",
       "      <td>238220578</td>\n",
       "      <td>17495.25</td>\n",
       "    </tr>\n",
       "  </tbody>\n",
       "</table>\n",
       "</div>"
      ],
      "text/plain": [
       "         Date      Open      High       Low     Close   Shares Traded   \\\n",
       "0  02-JAN-2023  18131.70  18215.15  18086.50  18197.45       256073979   \n",
       "1  03-JAN-2023  18163.20  18251.95  18149.80  18232.55       208699772   \n",
       "2  04-JAN-2023  18230.65  18243.00  18020.60  18042.95       235162202   \n",
       "3  05-JAN-2023  18101.95  18120.30  17892.60  17992.15       269949738   \n",
       "4  06-JAN-2023  18008.05  18047.40  17795.55  17859.45       238220578   \n",
       "\n",
       "   Turnover (₹ Cr)  \n",
       "0         11793.06  \n",
       "1         13680.91  \n",
       "2         16687.71  \n",
       "3         22108.53  \n",
       "4         17495.25  "
      ]
     },
     "execution_count": 6,
     "metadata": {},
     "output_type": "execute_result"
    }
   ],
   "source": [
    "import pandas as pd\n",
    "import numpy as np\n",
    "!pip install openpyxl\n",
    "# Load data from Excel\n",
    "file_path = 'NIFTY 50-01-01-2023-to-31-12-2023.csv'\n",
    "df = pd.read_csv(file_path)\n",
    "print(\"Dataset Loaded Successfully:\")\n",
    "\n",
    "\n",
    "df.head()"
   ]
  },
  {
   "cell_type": "code",
   "execution_count": 7,
   "id": "78e7600e-7167-404f-b1f0-2460b14a859d",
   "metadata": {},
   "outputs": [
    {
     "name": "stdout",
     "output_type": "stream",
     "text": [
      "Updated Columns:\n",
      "Index(['Date', 'Open', 'High', 'Low', 'Close', 'Volume', 'Turnover'], dtype='object')\n"
     ]
    }
   ],
   "source": [
    "# Rename the columns to match the standard format\n",
    "new_column_names = ['Date', 'Open', 'High', 'Low', 'Close', 'Volume', 'Turnover']\n",
    "df.columns = new_column_names\n",
    "\n",
    "# Display renamed columns\n",
    "print(\"Updated Columns:\")\n",
    "print(df.columns)"
   ]
  },
  {
   "cell_type": "code",
   "execution_count": 8,
   "id": "c6cd6475-b093-4bbf-849b-f6fbb61eb206",
   "metadata": {},
   "outputs": [
    {
     "name": "stdout",
     "output_type": "stream",
     "text": [
      "Preprocessed Data:\n",
      "        Date      Open      High       Low     Close     Volume  Turnover\n",
      "0 2023-01-02  18131.70  18215.15  18086.50  18197.45  256073979  11793.06\n",
      "1 2023-01-03  18163.20  18251.95  18149.80  18232.55  208699772  13680.91\n",
      "2 2023-01-04  18230.65  18243.00  18020.60  18042.95  235162202  16687.71\n",
      "3 2023-01-05  18101.95  18120.30  17892.60  17992.15  269949738  22108.53\n",
      "4 2023-01-06  18008.05  18047.40  17795.55  17859.45  238220578  17495.25\n"
     ]
    },
    {
     "name": "stderr",
     "output_type": "stream",
     "text": [
      "C:\\Users\\Rishith\\AppData\\Local\\Temp\\ipykernel_16644\\2402149932.py:2: UserWarning: Could not infer format, so each element will be parsed individually, falling back to `dateutil`. To ensure parsing is consistent and as-expected, please specify a format.\n",
      "  df['Date'] = pd.to_datetime(df['Date'])\n"
     ]
    }
   ],
   "source": [
    "# Convert 'Date' column to datetime format\n",
    "df['Date'] = pd.to_datetime(df['Date'])\n",
    "\n",
    "# Drop rows with missing values\n",
    "df.dropna(inplace=True)\n",
    "\n",
    "# Sort the data by Date in ascending order\n",
    "df.sort_values(by='Date', inplace=True)\n",
    "\n",
    "# Display the preprocessed data\n",
    "print(\"Preprocessed Data:\")\n",
    "print(df.head())"
   ]
  },
  {
   "cell_type": "code",
   "execution_count": 9,
   "id": "91b9e82a-18d8-4e20-8e6c-bdd4ffffe920",
   "metadata": {},
   "outputs": [
    {
     "name": "stdout",
     "output_type": "stream",
     "text": [
      "Data with Metrics:\n",
      "         Date     Close  Daily_Return      MA_10  MA_50  Volatility\n",
      "0  2023-01-02  18197.45           NaN        NaN    NaN         NaN\n",
      "1  2023-01-03  18232.55      0.001929        NaN    NaN         NaN\n",
      "2  2023-01-04  18042.95     -0.010399        NaN    NaN         NaN\n",
      "3  2023-01-05  17992.15     -0.002816        NaN    NaN         NaN\n",
      "4  2023-01-06  17859.45     -0.007375        NaN    NaN         NaN\n",
      "5  2023-01-09  18101.20      0.013536        NaN    NaN         NaN\n",
      "6  2023-01-10  17914.15     -0.010334        NaN    NaN         NaN\n",
      "7  2023-01-11  17895.70     -0.001030        NaN    NaN         NaN\n",
      "8  2023-01-12  17858.20     -0.002095        NaN    NaN         NaN\n",
      "9  2023-01-13  17956.60      0.005510  18005.040    NaN         NaN\n",
      "10 2023-01-16  17894.85     -0.003439  17974.780    NaN    0.007338\n",
      "11 2023-01-17  18053.30      0.008855  17956.855    NaN    0.008009\n",
      "12 2023-01-18  18165.35      0.006207  17969.095    NaN    0.007542\n",
      "13 2023-01-19  18107.85     -0.003165  17980.665    NaN    0.007561\n",
      "14 2023-01-20  18027.65     -0.004429  17997.485    NaN    0.007265\n"
     ]
    }
   ],
   "source": [
    "# Calculate Daily Returns\n",
    "df['Daily_Return'] = df['Close'].pct_change()\n",
    "\n",
    "# Calculate Moving Averages (10-day and 50-day)\n",
    "df['MA_10'] = df['Close'].rolling(window=10).mean()\n",
    "df['MA_50'] = df['Close'].rolling(window=50).mean()\n",
    "\n",
    "# Calculate Volatility (10-day rolling standard deviation of returns)\n",
    "df['Volatility'] = df['Daily_Return'].rolling(window=10).std()\n",
    "\n",
    "# Display the DataFrame with new metrics\n",
    "print(\"Data with Metrics:\")\n",
    "print(df[['Date', 'Close', 'Daily_Return', 'MA_10', 'MA_50', 'Volatility']].head(15))\n"
   ]
  },
  {
   "cell_type": "code",
   "execution_count": 11,
   "id": "d7c7feaa-c717-4a09-b8f3-285bbd9ce6fa",
   "metadata": {},
   "outputs": [
    {
     "name": "stdout",
     "output_type": "stream",
     "text": [
      "Anomalies Detected:\n",
      "          Date    Close  Daily_Return  Volatility\n",
      "227 2023-12-04  20686.8      0.020668    0.006724\n"
     ]
    }
   ],
   "source": [
    "# Define thresholds for detecting anomalies\n",
    "return_threshold = 0.02  # Adjusted: 2% daily return\n",
    "volatility_threshold = 0.01  # Adjusted: 1% volatility\n",
    "\n",
    "# Identify anomalies\n",
    "df['Anomaly'] = np.where(\n",
    "    (abs(df['Daily_Return']) > return_threshold) | \n",
    "    (df['Volatility'] > volatility_threshold),\n",
    "    True,  # Mark as anomaly\n",
    "    False  # Normal data\n",
    ")\n",
    "\n",
    "# Display anomalies\n",
    "anomalies = df[df['Anomaly'] == True]\n",
    "print(\"Anomalies Detected:\")\n",
    "print(anomalies[['Date', 'Close', 'Daily_Return', 'Volatility']])\n",
    "\n",
    "# Debugging if no anomalies are found\n",
    "if anomalies.empty:\n",
    "    print(\"No anomalies detected. Try relaxing the thresholds.\")\n",
    "    print(\"Sample data for debugging:\")\n",
    "    print(df[['Date', 'Close', 'Daily_Return', 'Volatility']].tail(10))\n",
    "\n"
   ]
  },
  {
   "cell_type": "code",
   "execution_count": 12,
   "id": "19c0a670-6978-4bd9-be02-464532605cec",
   "metadata": {},
   "outputs": [
    {
     "name": "stdout",
     "output_type": "stream",
     "text": [
      "Results exported successfully to nifty_stock_analysis_output.xlsx\n"
     ]
    }
   ],
   "source": [
    "# Export the preprocessed data and anomalies to separate Excel sheets\n",
    "output_file = 'nifty_stock_analysis_output.xlsx'\n",
    "with pd.ExcelWriter(output_file) as writer:\n",
    "    df.to_excel(writer, sheet_name='Processed Data', index=False)\n",
    "    anomalies.to_excel(writer, sheet_name='Anomalies', index=False)\n",
    "\n",
    "print(f\"Results exported successfully to {output_file}\")\n"
   ]
  },
  {
   "cell_type": "code",
   "execution_count": null,
   "id": "fcfb4750-ef45-4dee-baa0-3c59e26eebaf",
   "metadata": {},
   "outputs": [],
   "source": []
  }
 ],
 "metadata": {
  "kernelspec": {
   "display_name": "Python 3 (ipykernel)",
   "language": "python",
   "name": "python3"
  },
  "language_info": {
   "codemirror_mode": {
    "name": "ipython",
    "version": 3
   },
   "file_extension": ".py",
   "mimetype": "text/x-python",
   "name": "python",
   "nbconvert_exporter": "python",
   "pygments_lexer": "ipython3",
   "version": "3.11.7"
  }
 },
 "nbformat": 4,
 "nbformat_minor": 5
}
